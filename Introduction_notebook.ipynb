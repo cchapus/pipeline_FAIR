{
 "cells": [
  {
   "cell_type": "markdown",
   "id": "7a370921-0a75-43fb-868b-41df8293a794",
   "metadata": {},
   "source": [
    "# Premier notebook\n",
    "\n",
    "Il s'agit du premier fichier notebook (extension .ipynb). C'est un fichier qui lancera des fonctions `bash`."
   ]
  },
  {
   "cell_type": "markdown",
   "id": "6dce0af3-d0d5-411f-9cd9-edaee34b8531",
   "metadata": {},
   "source": [
    "## Chargement des modules"
   ]
  },
  {
   "cell_type": "code",
   "execution_count": 2,
   "id": "b89c24b6-1621-48c7-a877-1e99929a6de5",
   "metadata": {},
   "outputs": [],
   "source": [
    "module load zenodo_get/1.3.2 \n",
    "module load hisat2/2.2.1\n",
    "module load fastqc/0.12.1\n",
    "module load samtools/1.15.1\n",
    "module load htseq/0.13.5\n",
    "module load r/4.2.3"
   ]
  },
  {
   "cell_type": "markdown",
   "id": "5367d52a-9b84-4b10-8fa4-1530602287ce",
   "metadata": {},
   "source": [
    "## Get Data from Zenodo\n",
    "\n",
    "Zenodo is an online platform that enables researchers and scientists to deposit, share, and archive their research data, publications, software, presentations, and other digital content. It is an initiative developed by the European Organization for Nuclear Research (CERN) to promote the free circulation of scientific knowledge and facilitate access to research findings.\n",
    "\n",
    "Zenodo provides free and permanent storage space for researchers, ensuring the longevity and availability of research data in the long term. Additionally, the platform assigns Digital Object Identifiers (DOIs) to each deposit, making it easier to cite and reference research works, thus contributing to the academic recognition of authors."
   ]
  },
  {
   "cell_type": "code",
   "execution_count": 3,
   "id": "795db91f-6b5f-4259-be3d-317806f5f0a4",
   "metadata": {},
   "outputs": [
    {
     "name": "stdout",
     "output_type": "stream",
     "text": [
      "Title: reduced RNAseq for FAIR_Bioinfo courses\n",
      "Keywords: \n",
      "Publication date: 2020-08-24\n",
      "DOI: 10.5281/zenodo.3997237\n",
      "Total size: 118.8 MB\n",
      "\n",
      "Link: https://zenodo.org/api/records/3997237/files/FAIR_Bioinfo_data.tar.gz/content   size: 118.8 MB\n",
      " 19% [.........                                         ]  24502272 / 124534911\r"
     ]
    },
    {
     "name": "stderr",
     "output_type": "stream",
     "text": [
      "IOPub message rate exceeded.\n",
      "The Jupyter server will temporarily stop sending output\n",
      "to the client in order to avoid crashing it.\n",
      "To change this limit, set the config variable\n",
      "`--ServerApp.iopub_msg_rate_limit`.\n",
      "\n",
      "Current values:\n",
      "ServerApp.iopub_msg_rate_limit=1000.0 (msgs/sec)\n",
      "ServerApp.rate_limit_window=3.0 (secs)\n",
      "\n"
     ]
    },
    {
     "name": "stdout",
     "output_type": "stream",
     "text": [
      " 53% [..........................                        ]  66625536 / 124534911\r"
     ]
    },
    {
     "name": "stderr",
     "output_type": "stream",
     "text": [
      "IOPub message rate exceeded.\n",
      "The Jupyter server will temporarily stop sending output\n",
      "to the client in order to avoid crashing it.\n",
      "To change this limit, set the config variable\n",
      "`--ServerApp.iopub_msg_rate_limit`.\n",
      "\n",
      "Current values:\n",
      "ServerApp.iopub_msg_rate_limit=1000.0 (msgs/sec)\n",
      "ServerApp.rate_limit_window=3.0 (secs)\n",
      "\n"
     ]
    },
    {
     "name": "stdout",
     "output_type": "stream",
     "text": [
      " 87% [...........................................       ] 108920832 / 124534911\r"
     ]
    },
    {
     "name": "stderr",
     "output_type": "stream",
     "text": [
      "IOPub message rate exceeded.\n",
      "The Jupyter server will temporarily stop sending output\n",
      "to the client in order to avoid crashing it.\n",
      "To change this limit, set the config variable\n",
      "`--ServerApp.iopub_msg_rate_limit`.\n",
      "\n",
      "Current values:\n",
      "ServerApp.iopub_msg_rate_limit=1000.0 (msgs/sec)\n",
      "ServerApp.rate_limit_window=3.0 (secs)\n",
      "\n"
     ]
    },
    {
     "name": "stdout",
     "output_type": "stream",
     "text": [
      "Checksum is correct. (85db07129cd29f353fed6c547f5ed4b1)\n",
      "All files have been downloaded.\n"
     ]
    }
   ],
   "source": [
    "zenodo_get -t 60 -R 3 10.5281/zenodo.3997237"
   ]
  },
  {
   "cell_type": "markdown",
   "id": "ebe4b015-56cb-47fa-9154-299647ebccbc",
   "metadata": {},
   "source": [
    "On va vérifie à la main si le téléchargement s'est bien passé"
   ]
  },
  {
   "cell_type": "code",
   "execution_count": 4,
   "id": "80358cd0-41f3-4e77-b22e-b367ffda8372",
   "metadata": {},
   "outputs": [
    {
     "name": "stdout",
     "output_type": "stream",
     "text": [
      "FAIR_Bioinfo_data.tar.gz: OK\n"
     ]
    }
   ],
   "source": [
    "md5sum -c md5sums.txt"
   ]
  },
  {
   "cell_type": "code",
   "execution_count": null,
   "id": "dc1ff6e6-32dc-404c-bf7e-78d32072fde3",
   "metadata": {},
   "outputs": [],
   "source": []
  }
 ],
 "metadata": {
  "kernelspec": {
   "display_name": "Bash",
   "language": "bash",
   "name": "bash"
  },
  "language_info": {
   "codemirror_mode": "shell",
   "file_extension": ".sh",
   "mimetype": "text/x-sh",
   "name": "bash"
  }
 },
 "nbformat": 4,
 "nbformat_minor": 5
}
